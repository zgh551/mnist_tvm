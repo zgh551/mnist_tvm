{
 "cells": [
  {
   "cell_type": "code",
   "execution_count": 1,
   "id": "a3b52d14",
   "metadata": {},
   "outputs": [],
   "source": [
    "import tvm"
   ]
  },
  {
   "cell_type": "code",
   "execution_count": 2,
   "id": "70fcca49",
   "metadata": {},
   "outputs": [],
   "source": [
    "import numpy as np"
   ]
  },
  {
   "cell_type": "code",
   "execution_count": 3,
   "id": "38d65650",
   "metadata": {},
   "outputs": [],
   "source": [
    "from tvm import te"
   ]
  },
  {
   "cell_type": "code",
   "execution_count": 4,
   "id": "9ec95c4b",
   "metadata": {},
   "outputs": [],
   "source": [
    "from tvm import relay"
   ]
  },
  {
   "cell_type": "code",
   "execution_count": 6,
   "id": "4fa63c61",
   "metadata": {},
   "outputs": [],
   "source": [
    "import os"
   ]
  },
  {
   "cell_type": "code",
   "execution_count": 7,
   "id": "a50a8d5a",
   "metadata": {},
   "outputs": [],
   "source": [
    "base_path = \"../lib\""
   ]
  },
  {
   "cell_type": "code",
   "execution_count": 9,
   "id": "b102ad75",
   "metadata": {},
   "outputs": [
    {
     "name": "stderr",
     "output_type": "stream",
     "text": [
      "/home/zgh/Workspace/github/tvm/python/tvm/target/target.py:520: UserWarning: tvm.target.create() is being deprecated. Please use tvm.target.Target() instead\n",
      "  warnings.warn(\"tvm.target.create() is being deprecated. Please use tvm.target.Target() instead\")\n"
     ]
    }
   ],
   "source": [
    "x = relay.var(\"x\", shape=(2, 2), dtype=\"float32\")\n",
    "y = relay.var(\"y\", shape=(2, 2), dtype=\"float32\")\n",
    "params = {\"y\": np.ones((2, 2), dtype=\"float32\")}\n",
    "mod = tvm.IRModule.from_expr(relay.Function([x, y], x + y))\n",
    "# build a module\n",
    "compiled_lib = relay.build(mod, tvm.target.create(\"llvm\"), params=params, mod_name='test_relay')\n",
    "# export it as a shared library\n",
    "# If you are running cross compilation, you can also consider export\n",
    "# to tar and invoke host compiler later.\n",
    "dylib_path = os.path.join(base_path, \"test_relay_add.so\")\n",
    "compiled_lib.export_library(dylib_path)"
   ]
  },
  {
   "cell_type": "code",
   "execution_count": null,
   "id": "f63b14c5",
   "metadata": {},
   "outputs": [],
   "source": []
  }
 ],
 "metadata": {
  "kernelspec": {
   "display_name": "Python 3",
   "language": "python",
   "name": "python3"
  },
  "language_info": {
   "codemirror_mode": {
    "name": "ipython",
    "version": 3
   },
   "file_extension": ".py",
   "mimetype": "text/x-python",
   "name": "python",
   "nbconvert_exporter": "python",
   "pygments_lexer": "ipython3",
   "version": "3.6.9"
  }
 },
 "nbformat": 4,
 "nbformat_minor": 5
}
