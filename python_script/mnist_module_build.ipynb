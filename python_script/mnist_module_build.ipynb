{
 "cells": [
  {
   "cell_type": "markdown",
   "id": "1280dd60",
   "metadata": {},
   "source": [
    "# Mnist Module"
   ]
  },
  {
   "cell_type": "code",
   "execution_count": 8,
   "id": "b1a61033",
   "metadata": {},
   "outputs": [],
   "source": [
    "import numpy as np\n",
    "import onnx\n",
    "import os\n",
    "import glob\n",
    "from onnx import numpy_helper\n",
    "import tvm\n",
    "from tvm import te\n",
    "import tvm.relay as relay"
   ]
  },
  {
   "cell_type": "markdown",
   "id": "4b35dc8f",
   "metadata": {},
   "source": [
    "## Load module and param"
   ]
  },
  {
   "cell_type": "code",
   "execution_count": 9,
   "id": "37407173",
   "metadata": {},
   "outputs": [],
   "source": [
    "mnist_model = onnx.load('../mnist/mnist-8.onnx')"
   ]
  },
  {
   "cell_type": "code",
   "execution_count": 10,
   "id": "ab983f57",
   "metadata": {},
   "outputs": [
    {
     "name": "stdout",
     "output_type": "stream",
     "text": [
      "{'Input3': (1, 1, 28, 28)}\n"
     ]
    }
   ],
   "source": [
    "input_name = \"Input3\"\n",
    "shape_dict = {input_name: (1, 1, 28, 28)}\n",
    "print(shape_dict)"
   ]
  },
  {
   "cell_type": "code",
   "execution_count": 11,
   "id": "03f15585",
   "metadata": {},
   "outputs": [],
   "source": [
    "mod, params = relay.frontend.from_onnx(mnist_model, shape_dict)"
   ]
  },
  {
   "cell_type": "markdown",
   "id": "5cf464c4",
   "metadata": {},
   "source": [
    "## Set Target "
   ]
  },
  {
   "cell_type": "code",
   "execution_count": 12,
   "id": "04ce5175",
   "metadata": {},
   "outputs": [],
   "source": [
    "# target_type = 'x86_64'\n",
    "target_type = 'ARMv8'"
   ]
  },
  {
   "cell_type": "code",
   "execution_count": 13,
   "id": "ba858e1c",
   "metadata": {},
   "outputs": [
    {
     "name": "stdout",
     "output_type": "stream",
     "text": [
      "llvm -keys=arm_cpu,cpu -device=arm_cpu -link-params=0 -mattr=+neon -mtriple=aarch64-linux-gnu\n",
      "llvm -keys=arm_cpu,cpu -device=arm_cpu -link-params=0 -mattr=+neon -mtriple=aarch64-linux-gnu\n"
     ]
    }
   ],
   "source": [
    "if target_type == 'x86_64':\n",
    "    target = tvm.target.Target('llvm')\n",
    "    target_host = tvm.target.Target('llvm')\n",
    "elif target_type == 'ARMv7':\n",
    "    target = tvm.target.arm_cpu(\"rasp3b\")\n",
    "    target_host = tvm.target.Target(\"llvm -device=arm_cpu -mtriple=aarch64-linux-gnu -mattr=+neon\")\n",
    "elif target_type == 'ARMv8':\n",
    "    target = tvm.target.Target(\"llvm -device=arm_cpu -mtriple=aarch64-linux-gnu -mattr=+neon\")\n",
    "    target_host = tvm.target.Target(\"llvm -device=arm_cpu -mtriple=aarch64-linux-gnu -mattr=+neon\")\n",
    "elif target_type == 'OpenCL':\n",
    "    target = tvm.target.Target(\"opencl -device=intel_graphics\")\n",
    "    target_host = tvm.target.Target(\"llvm -device=arm_cpu -mtriple=aarch64-linux-gnu -mattr=+neon\")\n",
    "    \n",
    "print(target)\n",
    "print(target_host)"
   ]
  },
  {
   "cell_type": "markdown",
   "id": "8752078b",
   "metadata": {},
   "source": [
    "## Build"
   ]
  },
  {
   "cell_type": "code",
   "execution_count": 14,
   "id": "b6cce22b",
   "metadata": {},
   "outputs": [
    {
     "name": "stderr",
     "output_type": "stream",
     "text": [
      "WARNING:autotvm:One or more operators have not been tuned. Please tune your model for better performance. Use DEBUG logging level to see more details.\n"
     ]
    }
   ],
   "source": [
    "with tvm.transform.PassContext(opt_level=3):\n",
    "# with relay.build_config(opt_level=3):    \n",
    "    module_lib = relay.build(mod, target=target, target_host=target_host, params=params, mod_name='mnist')"
   ]
  },
  {
   "cell_type": "code",
   "execution_count": 15,
   "id": "7e42d45b",
   "metadata": {},
   "outputs": [
    {
     "name": "stdout",
     "output_type": "stream",
     "text": [
      "<tvm.relay.backend.executor_factory.GraphExecutorFactoryModule object at 0x7fed1478a790>\n"
     ]
    }
   ],
   "source": [
    "print(module_lib)"
   ]
  },
  {
   "cell_type": "markdown",
   "id": "c6cbb1ea",
   "metadata": {},
   "source": [
    "## Export Lib"
   ]
  },
  {
   "cell_type": "code",
   "execution_count": 16,
   "id": "2bdf4f3d",
   "metadata": {},
   "outputs": [],
   "source": [
    "# lib export"
   ]
  },
  {
   "cell_type": "code",
   "execution_count": 17,
   "id": "f9d8fc0e",
   "metadata": {},
   "outputs": [],
   "source": [
    "if target_type == 'x86_64':\n",
    "    lib_path   = \"../module/x86_64/mnist_x86_64.so\"\n",
    "    param_path = \"../module/x86_64/mnist_x86_64.params\"\n",
    "    module_lib.export_library(lib_path)\n",
    "elif target_type == 'ARMv7':\n",
    "    lib_path   = \"../module/armv7/mnist_aarch64.so\"\n",
    "    param_path = \"../module/armv7/mnist_aarch64.params\"\n",
    "    module_lib.export_library(lib_path, tvm.contrib.cc.cross_compiler('arm-linux-gnueabihf-g++'))\n",
    "elif target_type == 'ARMv8':\n",
    "    lib_path   = \"../module/armv8/mnist_aarch64.so\"\n",
    "    param_path = \"../module/armv8/mnist_aarch64.params\"\n",
    "    module_lib.export_library(lib_path, tvm.contrib.cc.cross_compiler('aarch64-linux-gnu-g++'))\n",
    "elif target_type == 'OpenCL':\n",
    "    lib_path   = \"../module/opencl/mnist_opencl.so\"\n",
    "    param_path = \"../module/opencl/mnist_opencl.params\"\n",
    "    module_lib.export_library(lib_path, tvm.contrib.cc.cross_compiler('aarch64-linux-gnu-g++'))    "
   ]
  },
  {
   "cell_type": "markdown",
   "id": "a2ed26b1",
   "metadata": {},
   "source": [
    "##  Export Params"
   ]
  },
  {
   "cell_type": "code",
   "execution_count": 18,
   "id": "3d2f85ca",
   "metadata": {},
   "outputs": [],
   "source": [
    "with open(param_path, 'wb') as fo:\n",
    "    fo.write(relay.save_param_dict(params))"
   ]
  },
  {
   "cell_type": "code",
   "execution_count": 20,
   "id": "c8785381",
   "metadata": {},
   "outputs": [],
   "source": [
    "#module = tvm.contrib.graph_executor.GraphModule(module_lib[\"mnist\"](ctx))"
   ]
  }
 ],
 "metadata": {
  "kernelspec": {
   "display_name": "Python 3 (ipykernel)",
   "language": "python",
   "name": "python3"
  },
  "language_info": {
   "codemirror_mode": {
    "name": "ipython",
    "version": 3
   },
   "file_extension": ".py",
   "mimetype": "text/x-python",
   "name": "python",
   "nbconvert_exporter": "python",
   "pygments_lexer": "ipython3",
   "version": "3.8.10"
  }
 },
 "nbformat": 4,
 "nbformat_minor": 5
}
