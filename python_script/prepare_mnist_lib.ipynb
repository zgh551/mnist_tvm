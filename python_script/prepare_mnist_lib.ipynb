{
 "cells": [
  {
   "cell_type": "code",
   "execution_count": 1,
   "id": "b1a61033",
   "metadata": {},
   "outputs": [],
   "source": [
    "import numpy as np"
   ]
  },
  {
   "cell_type": "code",
   "execution_count": 2,
   "id": "81624777",
   "metadata": {},
   "outputs": [],
   "source": [
    "import onnx"
   ]
  },
  {
   "cell_type": "code",
   "execution_count": 3,
   "id": "efc77563",
   "metadata": {},
   "outputs": [],
   "source": [
    "import os"
   ]
  },
  {
   "cell_type": "code",
   "execution_count": 4,
   "id": "c4f980bc",
   "metadata": {},
   "outputs": [],
   "source": [
    "import glob"
   ]
  },
  {
   "cell_type": "code",
   "execution_count": 5,
   "id": "bb694546",
   "metadata": {},
   "outputs": [],
   "source": [
    "from onnx import numpy_helper"
   ]
  },
  {
   "cell_type": "code",
   "execution_count": 6,
   "id": "c4262745",
   "metadata": {},
   "outputs": [],
   "source": [
    "import tvm"
   ]
  },
  {
   "cell_type": "code",
   "execution_count": 7,
   "id": "db2e66a9",
   "metadata": {},
   "outputs": [],
   "source": [
    "from tvm import te"
   ]
  },
  {
   "cell_type": "code",
   "execution_count": 8,
   "id": "4db20951",
   "metadata": {},
   "outputs": [],
   "source": [
    "import tvm.relay as relay"
   ]
  },
  {
   "cell_type": "code",
   "execution_count": 9,
   "id": "37407173",
   "metadata": {},
   "outputs": [],
   "source": [
    "mnist_model = onnx.load('../mnist/mnist-8.onnx')"
   ]
  },
  {
   "cell_type": "code",
   "execution_count": 10,
   "id": "83329f57",
   "metadata": {},
   "outputs": [],
   "source": [
    "# load module param and mod"
   ]
  },
  {
   "cell_type": "code",
   "execution_count": 11,
   "id": "ab983f57",
   "metadata": {},
   "outputs": [],
   "source": [
    "input_name = \"Input3\""
   ]
  },
  {
   "cell_type": "code",
   "execution_count": 12,
   "id": "c93790e3",
   "metadata": {},
   "outputs": [
    {
     "name": "stdout",
     "output_type": "stream",
     "text": [
      "{'Input3': (1, 1, 28, 28)}\n"
     ]
    }
   ],
   "source": [
    "shape_dict = {input_name: (1, 1, 28, 28)}\n",
    "print(shape_dict)"
   ]
  },
  {
   "cell_type": "code",
   "execution_count": 13,
   "id": "03f15585",
   "metadata": {},
   "outputs": [],
   "source": [
    "mod, params = relay.frontend.from_onnx(mnist_model, shape_dict)"
   ]
  },
  {
   "cell_type": "code",
   "execution_count": 14,
   "id": "a78937d3",
   "metadata": {},
   "outputs": [],
   "source": [
    "# compile"
   ]
  },
  {
   "cell_type": "code",
   "execution_count": 15,
   "id": "b116483f",
   "metadata": {},
   "outputs": [],
   "source": [
    "#print(mod)"
   ]
  },
  {
   "cell_type": "code",
   "execution_count": 16,
   "id": "5be4d121",
   "metadata": {},
   "outputs": [],
   "source": [
    "# pc test first"
   ]
  },
  {
   "cell_type": "code",
   "execution_count": 17,
   "id": "b6cce22b",
   "metadata": {},
   "outputs": [
    {
     "name": "stderr",
     "output_type": "stream",
     "text": [
      "/home/zgh/Workspace/github/tvm/python/tvm/target/target.py:520: UserWarning: tvm.target.create() is being deprecated. Please use tvm.target.Target() instead\n",
      "  warnings.warn(\"tvm.target.create() is being deprecated. Please use tvm.target.Target() instead\")\n",
      "Cannot find config for target=llvm -keys=cpu -link-params=0, workload=('conv2d_NCHWc.x86', ('TENSOR', (1, 1, 32, 32), 'float32'), ('TENSOR', (8, 1, 5, 5), 'float32'), (1, 1), (0, 0, 0, 0), (1, 1), 'NCHW', 'NCHW', 'float32'). A fallback configuration is used, which may bring great performance regression.\n",
      "Cannot find config for target=llvm -keys=cpu -link-params=0, workload=('conv2d_NCHWc.x86', ('TENSOR', (1, 8, 18, 18), 'float32'), ('TENSOR', (16, 8, 5, 5), 'float32'), (1, 1), (0, 0, 0, 0), (1, 1), 'NCHW', 'NCHW', 'float32'). A fallback configuration is used, which may bring great performance regression.\n",
      "Cannot find config for target=llvm -keys=cpu -link-params=0, workload=('dense_pack.x86', ('TENSOR', (1, 256), 'float32'), ('TENSOR', (10, 256), 'float32'), None, 'float32'). A fallback configuration is used, which may bring great performance regression.\n",
      "Cannot find config for target=llvm -keys=cpu -link-params=0, workload=('dense_pack.x86', ('TENSOR', (1, 256), 'float32'), ('TENSOR', (1, 256, 10), 'float32'), None, 'float32'). A fallback configuration is used, which may bring great performance regression.\n",
      "Cannot find config for target=llvm -keys=cpu -link-params=0, workload=('conv2d_NCHWc.x86', ('TENSOR', (1, 1, 18, 18, 8), 'float32'), ('TENSOR', (2, 1, 5, 5, 8, 8), 'float32'), (1, 1), (0, 0, 0, 0), (1, 1), 'NCHW8c', 'NCHW8c', 'float32'). A fallback configuration is used, which may bring great performance regression.\n",
      "Cannot find config for target=llvm -keys=cpu -link-params=0, workload=('conv2d_NCHWc.x86', ('TENSOR', (1, 1, 32, 32, 1), 'float32'), ('TENSOR', (1, 1, 5, 5, 1, 8), 'float32'), (1, 1), (0, 0, 0, 0), (1, 1), 'NCHW1c', 'NCHW8c', 'float32'). A fallback configuration is used, which may bring great performance regression.\n"
     ]
    }
   ],
   "source": [
    "with relay.build_config(opt_level=3):\n",
    "    mod_lib= relay.build(mod, tvm.target.create(\"llvm\"), params=params, mod_name='mnist')"
   ]
  },
  {
   "cell_type": "code",
   "execution_count": 18,
   "id": "7e42d45b",
   "metadata": {},
   "outputs": [
    {
     "name": "stdout",
     "output_type": "stream",
     "text": [
      "<tvm.relay.backend.graph_executor_factory.GraphExecutorFactoryModule object at 0x7f93bb14c430>\n"
     ]
    }
   ],
   "source": [
    "print(mod_lib)"
   ]
  },
  {
   "cell_type": "code",
   "execution_count": 19,
   "id": "2bdf4f3d",
   "metadata": {},
   "outputs": [],
   "source": [
    "# lib export\n",
    "lib_path = \"../lib/mnist.so\""
   ]
  },
  {
   "cell_type": "code",
   "execution_count": 20,
   "id": "f9d8fc0e",
   "metadata": {},
   "outputs": [],
   "source": [
    "mod_lib.export_library(lib_path)"
   ]
  },
  {
   "cell_type": "code",
   "execution_count": 21,
   "id": "b83108aa",
   "metadata": {},
   "outputs": [],
   "source": [
    "# json export"
   ]
  },
  {
   "cell_type": "code",
   "execution_count": 22,
   "id": "df83ff31",
   "metadata": {},
   "outputs": [],
   "source": [
    "#graph_path = \"./lib/mnist.json\""
   ]
  },
  {
   "cell_type": "code",
   "execution_count": 23,
   "id": "963c796a",
   "metadata": {},
   "outputs": [],
   "source": [
    "#with open(graph_path, 'w') as fo:\n",
    "    #fo.write(graph)"
   ]
  },
  {
   "cell_type": "code",
   "execution_count": 23,
   "id": "f76de0a7",
   "metadata": {},
   "outputs": [],
   "source": [
    "# params export"
   ]
  },
  {
   "cell_type": "code",
   "execution_count": 24,
   "id": "2ca49db1",
   "metadata": {},
   "outputs": [],
   "source": [
    "param_path = \"../lib/mnist.params\""
   ]
  },
  {
   "cell_type": "code",
   "execution_count": 25,
   "id": "3d2f85ca",
   "metadata": {},
   "outputs": [],
   "source": [
    "with open(param_path, 'wb') as fo:\n",
    "    fo.write(relay.save_param_dict(params))"
   ]
  },
  {
   "cell_type": "code",
   "execution_count": 80,
   "id": "52046193",
   "metadata": {},
   "outputs": [],
   "source": [
    "# test module"
   ]
  },
  {
   "cell_type": "code",
   "execution_count": 26,
   "id": "5cac0c0f",
   "metadata": {},
   "outputs": [],
   "source": [
    "test_data_dir = '../mnist/test_data_set_2'"
   ]
  },
  {
   "cell_type": "code",
   "execution_count": 27,
   "id": "2cdb08ca",
   "metadata": {},
   "outputs": [],
   "source": [
    "inputs = []"
   ]
  },
  {
   "cell_type": "code",
   "execution_count": 28,
   "id": "3cf6bd48",
   "metadata": {},
   "outputs": [],
   "source": [
    "inputs_num = len(glob.glob(os.path.join(test_data_dir, 'input_*.pb')))"
   ]
  },
  {
   "cell_type": "code",
   "execution_count": 29,
   "id": "1712cfa9",
   "metadata": {},
   "outputs": [],
   "source": [
    "for i in range(inputs_num):\n",
    "    input_file = os.path.join(test_data_dir, 'input_{}.pb'.format(i))\n",
    "    tensor = onnx.TensorProto()\n",
    "    with open(input_file, 'rb') as f:\n",
    "        tensor.ParseFromString(f.read())\n",
    "    inputs.append(numpy_helper.to_array(tensor))"
   ]
  },
  {
   "cell_type": "code",
   "execution_count": 31,
   "id": "4c3b62a4",
   "metadata": {},
   "outputs": [],
   "source": [
    "#loaded_json = open(graph_path).read()"
   ]
  },
  {
   "cell_type": "code",
   "execution_count": 32,
   "id": "89c1e553",
   "metadata": {},
   "outputs": [],
   "source": [
    "loaded_lib = tvm.runtime.load_module(lib_path)"
   ]
  },
  {
   "cell_type": "code",
   "execution_count": 33,
   "id": "750b392f",
   "metadata": {},
   "outputs": [],
   "source": [
    "#loaded_param = tvm.runtime.load_param_dict(open(param_path, \"rb\").read())\n",
    "loaded_param = bytearray(open(param_path, \"rb\").read())"
   ]
  },
  {
   "cell_type": "code",
   "execution_count": 34,
   "id": "d39ca93c",
   "metadata": {},
   "outputs": [],
   "source": [
    "# context"
   ]
  },
  {
   "cell_type": "code",
   "execution_count": 35,
   "id": "42a1d2aa",
   "metadata": {},
   "outputs": [],
   "source": [
    "ctx = tvm.cpu()"
   ]
  },
  {
   "cell_type": "code",
   "execution_count": 36,
   "id": "edbc2800",
   "metadata": {},
   "outputs": [],
   "source": [
    "module = tvm.contrib.graph_executor.GraphModule(loaded_lib[\"mnist\"](ctx))"
   ]
  },
  {
   "cell_type": "code",
   "execution_count": 37,
   "id": "52e232e6",
   "metadata": {},
   "outputs": [],
   "source": [
    "#module = tvm.contrib.graph_executor.create(loaded_json, loaded_lib, ctx)"
   ]
  },
  {
   "cell_type": "code",
   "execution_count": 38,
   "id": "3252666e",
   "metadata": {},
   "outputs": [],
   "source": [
    "module.load_params(loaded_param)"
   ]
  },
  {
   "cell_type": "code",
   "execution_count": 39,
   "id": "ad11f533",
   "metadata": {},
   "outputs": [],
   "source": [
    "module.set_input(\"Input3\", inputs[0])"
   ]
  },
  {
   "cell_type": "markdown",
   "id": "a1d9faa6",
   "metadata": {},
   "source": [
    "# tes"
   ]
  },
  {
   "cell_type": "code",
   "execution_count": 40,
   "id": "e0d8091c",
   "metadata": {},
   "outputs": [],
   "source": [
    "module.run()"
   ]
  },
  {
   "cell_type": "code",
   "execution_count": 41,
   "id": "cebe63c7",
   "metadata": {},
   "outputs": [],
   "source": [
    "out_deploy = module.get_output(0).asnumpy()"
   ]
  },
  {
   "cell_type": "code",
   "execution_count": 42,
   "id": "6797eecb",
   "metadata": {},
   "outputs": [
    {
     "name": "stdout",
     "output_type": "stream",
     "text": [
      "[[-2334.0884   -1113.6259    1076.5802    -860.23926   1588.5348\n",
      "  -1534.3464   -2686.0781     -56.480286    74.574875  3715.3796  ]]\n"
     ]
    }
   ],
   "source": [
    "print(out_deploy)"
   ]
  },
  {
   "cell_type": "code",
   "execution_count": null,
   "id": "c52a235f",
   "metadata": {},
   "outputs": [],
   "source": []
  }
 ],
 "metadata": {
  "kernelspec": {
   "display_name": "Python 3",
   "language": "python",
   "name": "python3"
  },
  "language_info": {
   "codemirror_mode": {
    "name": "ipython",
    "version": 3
   },
   "file_extension": ".py",
   "mimetype": "text/x-python",
   "name": "python",
   "nbconvert_exporter": "python",
   "pygments_lexer": "ipython3",
   "version": "3.8.5"
  }
 },
 "nbformat": 4,
 "nbformat_minor": 5
}
