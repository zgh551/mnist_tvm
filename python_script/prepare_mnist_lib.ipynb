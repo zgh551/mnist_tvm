{
 "cells": [
  {
   "cell_type": "code",
   "execution_count": 1,
   "id": "b1a61033",
   "metadata": {},
   "outputs": [],
   "source": [
    "import numpy as np\n",
    "import onnx\n",
    "import os\n",
    "import glob\n",
    "from onnx import numpy_helper\n",
    "import tvm\n",
    "from tvm import te\n",
    "import tvm.relay as relay"
   ]
  },
  {
   "cell_type": "code",
   "execution_count": 2,
   "id": "37407173",
   "metadata": {},
   "outputs": [],
   "source": [
    "mnist_model = onnx.load('../mnist/mnist-8.onnx')"
   ]
  },
  {
   "cell_type": "code",
   "execution_count": 3,
   "id": "83329f57",
   "metadata": {},
   "outputs": [],
   "source": [
    "# load module param and mod"
   ]
  },
  {
   "cell_type": "code",
   "execution_count": 4,
   "id": "ab983f57",
   "metadata": {},
   "outputs": [
    {
     "name": "stdout",
     "output_type": "stream",
     "text": [
      "{'Input3': (1, 1, 28, 28)}\n"
     ]
    }
   ],
   "source": [
    "input_name = \"Input3\"\n",
    "shape_dict = {input_name: (1, 1, 28, 28)}\n",
    "print(shape_dict)"
   ]
  },
  {
   "cell_type": "code",
   "execution_count": 5,
   "id": "03f15585",
   "metadata": {},
   "outputs": [],
   "source": [
    "mod, params = relay.frontend.from_onnx(mnist_model, shape_dict)"
   ]
  },
  {
   "cell_type": "code",
   "execution_count": 6,
   "id": "ba858e1c",
   "metadata": {},
   "outputs": [],
   "source": [
    "# target = tvm.target.arm_cpu(\"rasp3b\")\n",
    "# target = tvm.target.create('llvm')\n",
    "#  target = tvm.target.Target(\"llvm -device=arm_cpu -mtriple=aarch64-linux-gnu -mattr=+neon\")\n",
    "target = tvm.target.intel_graphics()\n",
    "# target = tvm.target.Target(\"opencl -device=intel_graphics\")\n",
    "# target = tvm.target.Target(\"opencl -device=intel_graphics\")"
   ]
  },
  {
   "cell_type": "code",
   "execution_count": 7,
   "id": "abd0cbee",
   "metadata": {},
   "outputs": [
    {
     "name": "stdout",
     "output_type": "stream",
     "text": [
      "opencl -keys=intel_graphics,opencl,gpu -device=intel_graphics -max_num_threads=256 -model=unknown -thread_warp_size=16\n"
     ]
    }
   ],
   "source": [
    "print(target)"
   ]
  },
  {
   "cell_type": "code",
   "execution_count": 8,
   "id": "167fefc8",
   "metadata": {},
   "outputs": [],
   "source": [
    "target_host = \"llvm\""
   ]
  },
  {
   "cell_type": "code",
   "execution_count": 9,
   "id": "b6cce22b",
   "metadata": {},
   "outputs": [
    {
     "name": "stderr",
     "output_type": "stream",
     "text": [
      "One or more operators have not been tuned. Please tune your model for better performance. Use DEBUG logging level to see more details.\n"
     ]
    }
   ],
   "source": [
    "with tvm.transform.PassContext(opt_level=3):\n",
    "# with relay.build_config(opt_level=3):    \n",
    "    module_lib = relay.build(mod, target=target, target_host=target_host, params=params, mod_name='mnist')"
   ]
  },
  {
   "cell_type": "code",
   "execution_count": 10,
   "id": "7e42d45b",
   "metadata": {},
   "outputs": [
    {
     "name": "stdout",
     "output_type": "stream",
     "text": [
      "<tvm.relay.backend.executor_factory.GraphExecutorFactoryModule object at 0x7f95f118a7b8>\n"
     ]
    }
   ],
   "source": [
    "print(module_lib)"
   ]
  },
  {
   "cell_type": "code",
   "execution_count": 11,
   "id": "2bdf4f3d",
   "metadata": {},
   "outputs": [],
   "source": [
    "# lib export\n",
    "lib_path = \"../lib/mnist.so\""
   ]
  },
  {
   "cell_type": "code",
   "execution_count": 12,
   "id": "f9d8fc0e",
   "metadata": {},
   "outputs": [],
   "source": [
    "module_lib.export_library(lib_path)\n",
    "#cc=\"/usr/bin/aarch64-linux-gnu-g++\"\n",
    "# cc=\"/usr/bin/arm-linux-gnueabihf-g++"
   ]
  },
  {
   "cell_type": "code",
   "execution_count": 13,
   "id": "f76de0a7",
   "metadata": {},
   "outputs": [],
   "source": [
    "# params export"
   ]
  },
  {
   "cell_type": "code",
   "execution_count": 14,
   "id": "2ca49db1",
   "metadata": {},
   "outputs": [],
   "source": [
    "param_path = \"../lib/mnist.params\""
   ]
  },
  {
   "cell_type": "code",
   "execution_count": 15,
   "id": "3d2f85ca",
   "metadata": {},
   "outputs": [],
   "source": [
    "with open(param_path, 'wb') as fo:\n",
    "    fo.write(relay.save_param_dict(params))"
   ]
  },
  {
   "cell_type": "code",
   "execution_count": 16,
   "id": "d2a2263c",
   "metadata": {},
   "outputs": [],
   "source": [
    "ctx = tvm.opencl()"
   ]
  },
  {
   "cell_type": "code",
   "execution_count": 18,
   "id": "c8785381",
   "metadata": {},
   "outputs": [
    {
     "ename": "TVMError",
     "evalue": "Traceback (most recent call last):\n  8: TVMFuncCall\n  7: std::_Function_handler<void (tvm::runtime::TVMArgs, tvm::runtime::TVMRetValue*), tvm::runtime::GraphExecutorFactory::GetFunction(std::__cxx11::basic_string<char, std::char_traits<char>, std::allocator<char> > const&, tvm::runtime::ObjectPtr<tvm::runtime::Object> const&)::{lambda(tvm::runtime::TVMArgs, tvm::runtime::TVMRetValue*)#1}>::_M_invoke(std::_Any_data const&, tvm::runtime::TVMArgs&&, tvm::runtime::TVMRetValue*&&)\n  6: tvm::runtime::GraphExecutorFactory::ExecutorCreate(std::vector<DLDevice, std::allocator<DLDevice> > const&)\n  5: tvm::runtime::GraphExecutor::Init(std::__cxx11::basic_string<char, std::char_traits<char>, std::allocator<char> > const&, tvm::runtime::Module, std::vector<DLDevice, std::allocator<DLDevice> > const&, tvm::runtime::PackedFunc)\n  4: tvm::runtime::GraphExecutor::SetupStorage()\n  3: tvm::runtime::NDArray::Empty(std::vector<long, std::allocator<long> >, DLDataType, DLDevice, tvm::runtime::Optional<tvm::runtime::String>)\n  2: tvm::runtime::cl::OpenCLWorkspace::AllocDataSpace(DLDevice, int, long const*, DLDataType, tvm::runtime::Optional<tvm::runtime::String>)\n  1: tvm::runtime::DeviceAPI::AllocDataSpace(DLDevice, int, long const*, DLDataType, tvm::runtime::Optional<tvm::runtime::String>)\n  0: tvm::runtime::cl::OpenCLWorkspace::AllocDataSpace(DLDevice, unsigned long, unsigned long, DLDataType)\n  File \"/home/zgh/Workspace/github/tvm/src/runtime/opencl/opencl_device_api.cc\", line 196\nTVMError: \n---------------------------------------------------------------\nAn error occurred during the execution of TVM.\nFor more information, please see: https://tvm.apache.org/docs/errors.html\n---------------------------------------------------------------\n  Check failed: (context != nullptr) is false: No OpenCL device",
     "output_type": "error",
     "traceback": [
      "\u001b[0;31m---------------------------------------------------------------------------\u001b[0m",
      "\u001b[0;31mTVMError\u001b[0m                                  Traceback (most recent call last)",
      "\u001b[0;32m<ipython-input-18-41a3481ab148>\u001b[0m in \u001b[0;36m<module>\u001b[0;34m\u001b[0m\n\u001b[0;32m----> 1\u001b[0;31m \u001b[0mmodule\u001b[0m \u001b[0;34m=\u001b[0m \u001b[0mtvm\u001b[0m\u001b[0;34m.\u001b[0m\u001b[0mcontrib\u001b[0m\u001b[0;34m.\u001b[0m\u001b[0mgraph_executor\u001b[0m\u001b[0;34m.\u001b[0m\u001b[0mGraphModule\u001b[0m\u001b[0;34m(\u001b[0m\u001b[0mmodule_lib\u001b[0m\u001b[0;34m[\u001b[0m\u001b[0;34m\"mnist\"\u001b[0m\u001b[0;34m]\u001b[0m\u001b[0;34m(\u001b[0m\u001b[0mctx\u001b[0m\u001b[0;34m)\u001b[0m\u001b[0;34m)\u001b[0m\u001b[0;34m\u001b[0m\u001b[0;34m\u001b[0m\u001b[0m\n\u001b[0m",
      "\u001b[0;32m~/Workspace/github/tvm/python/tvm/_ffi/_ctypes/packed_func.py\u001b[0m in \u001b[0;36m__call__\u001b[0;34m(self, *args)\u001b[0m\n\u001b[1;32m    235\u001b[0m             \u001b[0;34m!=\u001b[0m \u001b[0;36m0\u001b[0m\u001b[0;34m\u001b[0m\u001b[0;34m\u001b[0m\u001b[0m\n\u001b[1;32m    236\u001b[0m         ):\n\u001b[0;32m--> 237\u001b[0;31m             \u001b[0;32mraise\u001b[0m \u001b[0mget_last_ffi_error\u001b[0m\u001b[0;34m(\u001b[0m\u001b[0;34m)\u001b[0m\u001b[0;34m\u001b[0m\u001b[0;34m\u001b[0m\u001b[0m\n\u001b[0m\u001b[1;32m    238\u001b[0m         \u001b[0m_\u001b[0m \u001b[0;34m=\u001b[0m \u001b[0mtemp_args\u001b[0m\u001b[0;34m\u001b[0m\u001b[0;34m\u001b[0m\u001b[0m\n\u001b[1;32m    239\u001b[0m         \u001b[0m_\u001b[0m \u001b[0;34m=\u001b[0m \u001b[0margs\u001b[0m\u001b[0;34m\u001b[0m\u001b[0;34m\u001b[0m\u001b[0m\n",
      "\u001b[0;31mTVMError\u001b[0m: Traceback (most recent call last):\n  8: TVMFuncCall\n  7: std::_Function_handler<void (tvm::runtime::TVMArgs, tvm::runtime::TVMRetValue*), tvm::runtime::GraphExecutorFactory::GetFunction(std::__cxx11::basic_string<char, std::char_traits<char>, std::allocator<char> > const&, tvm::runtime::ObjectPtr<tvm::runtime::Object> const&)::{lambda(tvm::runtime::TVMArgs, tvm::runtime::TVMRetValue*)#1}>::_M_invoke(std::_Any_data const&, tvm::runtime::TVMArgs&&, tvm::runtime::TVMRetValue*&&)\n  6: tvm::runtime::GraphExecutorFactory::ExecutorCreate(std::vector<DLDevice, std::allocator<DLDevice> > const&)\n  5: tvm::runtime::GraphExecutor::Init(std::__cxx11::basic_string<char, std::char_traits<char>, std::allocator<char> > const&, tvm::runtime::Module, std::vector<DLDevice, std::allocator<DLDevice> > const&, tvm::runtime::PackedFunc)\n  4: tvm::runtime::GraphExecutor::SetupStorage()\n  3: tvm::runtime::NDArray::Empty(std::vector<long, std::allocator<long> >, DLDataType, DLDevice, tvm::runtime::Optional<tvm::runtime::String>)\n  2: tvm::runtime::cl::OpenCLWorkspace::AllocDataSpace(DLDevice, int, long const*, DLDataType, tvm::runtime::Optional<tvm::runtime::String>)\n  1: tvm::runtime::DeviceAPI::AllocDataSpace(DLDevice, int, long const*, DLDataType, tvm::runtime::Optional<tvm::runtime::String>)\n  0: tvm::runtime::cl::OpenCLWorkspace::AllocDataSpace(DLDevice, unsigned long, unsigned long, DLDataType)\n  File \"/home/zgh/Workspace/github/tvm/src/runtime/opencl/opencl_device_api.cc\", line 196\nTVMError: \n---------------------------------------------------------------\nAn error occurred during the execution of TVM.\nFor more information, please see: https://tvm.apache.org/docs/errors.html\n---------------------------------------------------------------\n  Check failed: (context != nullptr) is false: No OpenCL device"
     ]
    }
   ],
   "source": [
    "module = tvm.contrib.graph_executor.GraphModule(module_lib[\"mnist\"](ctx))"
   ]
  },
  {
   "cell_type": "code",
   "execution_count": null,
   "id": "882de506",
   "metadata": {},
   "outputs": [],
   "source": []
  }
 ],
 "metadata": {
  "kernelspec": {
   "display_name": "Python 3",
   "language": "python",
   "name": "python3"
  },
  "language_info": {
   "codemirror_mode": {
    "name": "ipython",
    "version": 3
   },
   "file_extension": ".py",
   "mimetype": "text/x-python",
   "name": "python",
   "nbconvert_exporter": "python",
   "pygments_lexer": "ipython3",
   "version": "3.6.9"
  }
 },
 "nbformat": 4,
 "nbformat_minor": 5
}
