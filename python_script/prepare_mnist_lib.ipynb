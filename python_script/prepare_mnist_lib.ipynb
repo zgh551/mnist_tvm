{
 "cells": [
  {
   "cell_type": "code",
   "execution_count": 1,
   "id": "b1a61033",
   "metadata": {},
   "outputs": [],
   "source": [
    "import numpy as np"
   ]
  },
  {
   "cell_type": "code",
   "execution_count": 2,
   "id": "81624777",
   "metadata": {},
   "outputs": [],
   "source": [
    "import onnx"
   ]
  },
  {
   "cell_type": "code",
   "execution_count": 3,
   "id": "efc77563",
   "metadata": {},
   "outputs": [],
   "source": [
    "import os"
   ]
  },
  {
   "cell_type": "code",
   "execution_count": 4,
   "id": "c4f980bc",
   "metadata": {},
   "outputs": [],
   "source": [
    "import glob"
   ]
  },
  {
   "cell_type": "code",
   "execution_count": 5,
   "id": "bb694546",
   "metadata": {},
   "outputs": [],
   "source": [
    "from onnx import numpy_helper"
   ]
  },
  {
   "cell_type": "code",
   "execution_count": 6,
   "id": "c4262745",
   "metadata": {},
   "outputs": [],
   "source": [
    "import tvm"
   ]
  },
  {
   "cell_type": "code",
   "execution_count": 7,
   "id": "db2e66a9",
   "metadata": {},
   "outputs": [],
   "source": [
    "from tvm import te"
   ]
  },
  {
   "cell_type": "code",
   "execution_count": 8,
   "id": "4db20951",
   "metadata": {},
   "outputs": [],
   "source": [
    "import tvm.relay as relay"
   ]
  },
  {
   "cell_type": "code",
   "execution_count": 9,
   "id": "37407173",
   "metadata": {},
   "outputs": [],
   "source": [
    "mnist_model = onnx.load('../mnist/mnist-8.onnx')"
   ]
  },
  {
   "cell_type": "code",
   "execution_count": 10,
   "id": "83329f57",
   "metadata": {},
   "outputs": [],
   "source": [
    "# load module param and mod"
   ]
  },
  {
   "cell_type": "code",
   "execution_count": 11,
   "id": "ab983f57",
   "metadata": {},
   "outputs": [],
   "source": [
    "input_name = \"Input3\""
   ]
  },
  {
   "cell_type": "code",
   "execution_count": 12,
   "id": "c93790e3",
   "metadata": {},
   "outputs": [
    {
     "name": "stdout",
     "output_type": "stream",
     "text": [
      "{'Input3': (1, 1, 28, 28)}\n"
     ]
    }
   ],
   "source": [
    "shape_dict = {input_name: (1, 1, 28, 28)}\n",
    "print(shape_dict)"
   ]
  },
  {
   "cell_type": "code",
   "execution_count": 13,
   "id": "03f15585",
   "metadata": {},
   "outputs": [],
   "source": [
    "mod, params = relay.frontend.from_onnx(mnist_model, shape_dict)"
   ]
  },
  {
   "cell_type": "code",
   "execution_count": 33,
   "id": "4ef38b45",
   "metadata": {},
   "outputs": [],
   "source": [
    "# func = mod[\"main\"]"
   ]
  },
  {
   "cell_type": "code",
   "execution_count": 34,
   "id": "97c480a6",
   "metadata": {},
   "outputs": [],
   "source": [
    "# func = relay.Function(func.params, relay.nn.softmax(func.body), None, func.type_params, func.attrs)"
   ]
  },
  {
   "cell_type": "code",
   "execution_count": 14,
   "id": "ba858e1c",
   "metadata": {},
   "outputs": [],
   "source": [
    "# target = tvm.target.arm_cpu(\"rasp3b\")\n",
    "# target = tvm.target.create('llvm')\n",
    " target = tvm.target.Target(\"llvm -device=arm_cpu -mtriple=aarch64-linux-gnu -mattr=+neon\")"
   ]
  },
  {
   "cell_type": "code",
   "execution_count": 15,
   "id": "abd0cbee",
   "metadata": {},
   "outputs": [
    {
     "name": "stdout",
     "output_type": "stream",
     "text": [
      "llvm -keys=arm_cpu,cpu -device=arm_cpu -link-params=0 -mattr=+neon -mtriple=aarch64-linux-gnu\n"
     ]
    }
   ],
   "source": [
    "print(target)"
   ]
  },
  {
   "cell_type": "code",
   "execution_count": 20,
   "id": "b6cce22b",
   "metadata": {},
   "outputs": [],
   "source": [
    "with tvm.transform.PassContext(opt_level=2):\n",
    "# with relay.build_config(opt_level=2):    \n",
    "    mod_lib = relay.build(mod, target, params=params, mod_name='mnist')"
   ]
  },
  {
   "cell_type": "code",
   "execution_count": 21,
   "id": "7e42d45b",
   "metadata": {},
   "outputs": [
    {
     "name": "stdout",
     "output_type": "stream",
     "text": [
      "<tvm.relay.backend.executor_factory.GraphExecutorFactoryModule object at 0x7ff91ec75e80>\n"
     ]
    }
   ],
   "source": [
    "print(mod_lib)"
   ]
  },
  {
   "cell_type": "code",
   "execution_count": 22,
   "id": "2bdf4f3d",
   "metadata": {},
   "outputs": [],
   "source": [
    "# lib export\n",
    "lib_path = \"../lib/mnist.so\""
   ]
  },
  {
   "cell_type": "code",
   "execution_count": 24,
   "id": "f9d8fc0e",
   "metadata": {},
   "outputs": [],
   "source": [
    "mod_lib.export_library(lib_path, cc=\"/usr/bin/aarch64-linux-gnu-g++\")\n",
    "# cc=\"/usr/bin/arm-linux-gnueabihf-g++"
   ]
  },
  {
   "cell_type": "code",
   "execution_count": null,
   "id": "f76de0a7",
   "metadata": {},
   "outputs": [],
   "source": [
    "# params export"
   ]
  },
  {
   "cell_type": "code",
   "execution_count": 25,
   "id": "2ca49db1",
   "metadata": {},
   "outputs": [],
   "source": [
    "param_path = \"../lib/mnist.params\""
   ]
  },
  {
   "cell_type": "code",
   "execution_count": 26,
   "id": "3d2f85ca",
   "metadata": {},
   "outputs": [],
   "source": [
    "with open(param_path, 'wb') as fo:\n",
    "    fo.write(relay.save_param_dict(params))"
   ]
  },
  {
   "cell_type": "code",
   "execution_count": 27,
   "id": "52046193",
   "metadata": {},
   "outputs": [],
   "source": [
    "# test module"
   ]
  },
  {
   "cell_type": "code",
   "execution_count": 28,
   "id": "5cac0c0f",
   "metadata": {},
   "outputs": [],
   "source": [
    "test_data_dir = '../mnist/test_data_set_2'"
   ]
  },
  {
   "cell_type": "code",
   "execution_count": 29,
   "id": "2cdb08ca",
   "metadata": {},
   "outputs": [],
   "source": [
    "inputs = []"
   ]
  },
  {
   "cell_type": "code",
   "execution_count": 30,
   "id": "3cf6bd48",
   "metadata": {},
   "outputs": [],
   "source": [
    "inputs_num = len(glob.glob(os.path.join(test_data_dir, 'input_*.pb')))"
   ]
  },
  {
   "cell_type": "code",
   "execution_count": 31,
   "id": "1712cfa9",
   "metadata": {},
   "outputs": [],
   "source": [
    "for i in range(inputs_num):\n",
    "    input_file = os.path.join(test_data_dir, 'input_{}.pb'.format(i))\n",
    "    tensor = onnx.TensorProto()\n",
    "    with open(input_file, 'rb') as f:\n",
    "        tensor.ParseFromString(f.read())\n",
    "    inputs.append(numpy_helper.to_array(tensor))"
   ]
  },
  {
   "cell_type": "code",
   "execution_count": 34,
   "id": "89c1e553",
   "metadata": {},
   "outputs": [
    {
     "ename": "TVMError",
     "evalue": "Traceback (most recent call last):\n  3: TVMFuncCall\n  2: std::_Function_handler<void (tvm::runtime::TVMArgs, tvm::runtime::TVMRetValue*), tvm::runtime::TypedPackedFunc<tvm::runtime::Module (std::__cxx11::basic_string<char, std::char_traits<char>, std::allocator<char> > const&, std::__cxx11::basic_string<char, std::char_traits<char>, std::allocator<char> > const&)>::AssignTypedLambda<tvm::runtime::Module (*)(std::__cxx11::basic_string<char, std::char_traits<char>, std::allocator<char> > const&, std::__cxx11::basic_string<char, std::char_traits<char>, std::allocator<char> > const&)>(tvm::runtime::Module (*)(std::__cxx11::basic_string<char, std::char_traits<char>, std::allocator<char> > const&, std::__cxx11::basic_string<char, std::char_traits<char>, std::allocator<char> > const&), std::__cxx11::basic_string<char, std::char_traits<char>, std::allocator<char> >)::{lambda(tvm::runtime::TVMArgs const&, tvm::runtime::TVMRetValue*)#1}>::_M_invoke(std::_Any_data const&, tvm::runtime::TVMArgs&&, tvm::runtime::TVMRetValue*&&)\n  1: tvm::runtime::Module::LoadFromFile(std::__cxx11::basic_string<char, std::char_traits<char>, std::allocator<char> > const&, std::__cxx11::basic_string<char, std::char_traits<char>, std::allocator<char> > const&)\n  0: std::_Function_handler<void (tvm::runtime::TVMArgs, tvm::runtime::TVMRetValue*), tvm::runtime::{lambda(tvm::runtime::TVMArgs, tvm::runtime::TVMRetValue*)#1}>::_M_invoke(std::_Any_data const&, tvm::runtime::TVMArgs&&, tvm::runtime::TVMRetValue*&&)\n  File \"/home/zgh/Workspace/github/tvm/src/runtime/dso_library.cc\", line 79\nTVMError: \n---------------------------------------------------------------\nAn error occurred during the execution of TVM.\nFor more information, please see: https://tvm.apache.org/docs/errors.html\n---------------------------------------------------------------\n  Check failed: (lib_handle_ != nullptr) is false: Failed to load dynamic shared library /home/zgh/Workspace/github/mnist_tvm/lib/mnist.so /home/zgh/Workspace/github/mnist_tvm/lib/mnist.so: cannot open shared object file: No such file or directory",
     "output_type": "error",
     "traceback": [
      "\u001b[0;31m---------------------------------------------------------------------------\u001b[0m",
      "\u001b[0;31mTVMError\u001b[0m                                  Traceback (most recent call last)",
      "\u001b[0;32m<ipython-input-34-fa2f2a419936>\u001b[0m in \u001b[0;36m<module>\u001b[0;34m\u001b[0m\n\u001b[0;32m----> 1\u001b[0;31m \u001b[0mloaded_lib\u001b[0m \u001b[0;34m=\u001b[0m \u001b[0mtvm\u001b[0m\u001b[0;34m.\u001b[0m\u001b[0mruntime\u001b[0m\u001b[0;34m.\u001b[0m\u001b[0mload_module\u001b[0m\u001b[0;34m(\u001b[0m\u001b[0mlib_path\u001b[0m\u001b[0;34m)\u001b[0m\u001b[0;34m\u001b[0m\u001b[0;34m\u001b[0m\u001b[0m\n\u001b[0m",
      "\u001b[0;32m~/Workspace/github/tvm/python/tvm/runtime/module.py\u001b[0m in \u001b[0;36mload_module\u001b[0;34m(path, fmt)\u001b[0m\n\u001b[1;32m    472\u001b[0m         \u001b[0mpath\u001b[0m \u001b[0;34m+=\u001b[0m \u001b[0;34m\".so\"\u001b[0m\u001b[0;34m\u001b[0m\u001b[0;34m\u001b[0m\u001b[0m\n\u001b[1;32m    473\u001b[0m     \u001b[0;31m# Redirect to the load API\u001b[0m\u001b[0;34m\u001b[0m\u001b[0;34m\u001b[0m\u001b[0;34m\u001b[0m\u001b[0m\n\u001b[0;32m--> 474\u001b[0;31m     \u001b[0;32mreturn\u001b[0m \u001b[0m_ffi_api\u001b[0m\u001b[0;34m.\u001b[0m\u001b[0mModuleLoadFromFile\u001b[0m\u001b[0;34m(\u001b[0m\u001b[0mpath\u001b[0m\u001b[0;34m,\u001b[0m \u001b[0mfmt\u001b[0m\u001b[0;34m)\u001b[0m\u001b[0;34m\u001b[0m\u001b[0;34m\u001b[0m\u001b[0m\n\u001b[0m\u001b[1;32m    475\u001b[0m \u001b[0;34m\u001b[0m\u001b[0m\n\u001b[1;32m    476\u001b[0m \u001b[0;34m\u001b[0m\u001b[0m\n",
      "\u001b[0;32m~/Workspace/github/tvm/python/tvm/_ffi/_ctypes/packed_func.py\u001b[0m in \u001b[0;36m__call__\u001b[0;34m(self, *args)\u001b[0m\n\u001b[1;32m    235\u001b[0m             \u001b[0;34m!=\u001b[0m \u001b[0;36m0\u001b[0m\u001b[0;34m\u001b[0m\u001b[0;34m\u001b[0m\u001b[0m\n\u001b[1;32m    236\u001b[0m         ):\n\u001b[0;32m--> 237\u001b[0;31m             \u001b[0;32mraise\u001b[0m \u001b[0mget_last_ffi_error\u001b[0m\u001b[0;34m(\u001b[0m\u001b[0;34m)\u001b[0m\u001b[0;34m\u001b[0m\u001b[0;34m\u001b[0m\u001b[0m\n\u001b[0m\u001b[1;32m    238\u001b[0m         \u001b[0m_\u001b[0m \u001b[0;34m=\u001b[0m \u001b[0mtemp_args\u001b[0m\u001b[0;34m\u001b[0m\u001b[0;34m\u001b[0m\u001b[0m\n\u001b[1;32m    239\u001b[0m         \u001b[0m_\u001b[0m \u001b[0;34m=\u001b[0m \u001b[0margs\u001b[0m\u001b[0;34m\u001b[0m\u001b[0;34m\u001b[0m\u001b[0m\n",
      "\u001b[0;31mTVMError\u001b[0m: Traceback (most recent call last):\n  3: TVMFuncCall\n  2: std::_Function_handler<void (tvm::runtime::TVMArgs, tvm::runtime::TVMRetValue*), tvm::runtime::TypedPackedFunc<tvm::runtime::Module (std::__cxx11::basic_string<char, std::char_traits<char>, std::allocator<char> > const&, std::__cxx11::basic_string<char, std::char_traits<char>, std::allocator<char> > const&)>::AssignTypedLambda<tvm::runtime::Module (*)(std::__cxx11::basic_string<char, std::char_traits<char>, std::allocator<char> > const&, std::__cxx11::basic_string<char, std::char_traits<char>, std::allocator<char> > const&)>(tvm::runtime::Module (*)(std::__cxx11::basic_string<char, std::char_traits<char>, std::allocator<char> > const&, std::__cxx11::basic_string<char, std::char_traits<char>, std::allocator<char> > const&), std::__cxx11::basic_string<char, std::char_traits<char>, std::allocator<char> >)::{lambda(tvm::runtime::TVMArgs const&, tvm::runtime::TVMRetValue*)#1}>::_M_invoke(std::_Any_data const&, tvm::runtime::TVMArgs&&, tvm::runtime::TVMRetValue*&&)\n  1: tvm::runtime::Module::LoadFromFile(std::__cxx11::basic_string<char, std::char_traits<char>, std::allocator<char> > const&, std::__cxx11::basic_string<char, std::char_traits<char>, std::allocator<char> > const&)\n  0: std::_Function_handler<void (tvm::runtime::TVMArgs, tvm::runtime::TVMRetValue*), tvm::runtime::{lambda(tvm::runtime::TVMArgs, tvm::runtime::TVMRetValue*)#1}>::_M_invoke(std::_Any_data const&, tvm::runtime::TVMArgs&&, tvm::runtime::TVMRetValue*&&)\n  File \"/home/zgh/Workspace/github/tvm/src/runtime/dso_library.cc\", line 79\nTVMError: \n---------------------------------------------------------------\nAn error occurred during the execution of TVM.\nFor more information, please see: https://tvm.apache.org/docs/errors.html\n---------------------------------------------------------------\n  Check failed: (lib_handle_ != nullptr) is false: Failed to load dynamic shared library /home/zgh/Workspace/github/mnist_tvm/lib/mnist.so /home/zgh/Workspace/github/mnist_tvm/lib/mnist.so: cannot open shared object file: No such file or directory"
     ]
    }
   ],
   "source": [
    "loaded_lib = tvm.runtime.load_module(lib_path)"
   ]
  },
  {
   "cell_type": "code",
   "execution_count": null,
   "id": "750b392f",
   "metadata": {},
   "outputs": [],
   "source": [
    "#loaded_param = tvm.runtime.load_param_dict(open(param_path, \"rb\").read())\n",
    "loaded_param = bytearray(open(param_path, \"rb\").read())"
   ]
  },
  {
   "cell_type": "code",
   "execution_count": null,
   "id": "d39ca93c",
   "metadata": {},
   "outputs": [],
   "source": [
    "# context"
   ]
  },
  {
   "cell_type": "code",
   "execution_count": null,
   "id": "42a1d2aa",
   "metadata": {},
   "outputs": [],
   "source": [
    "ctx = tvm.cpu()"
   ]
  },
  {
   "cell_type": "code",
   "execution_count": null,
   "id": "edbc2800",
   "metadata": {},
   "outputs": [],
   "source": [
    "module = tvm.contrib.graph_executor.GraphModule(loaded_lib[\"mnist\"](ctx))"
   ]
  },
  {
   "cell_type": "code",
   "execution_count": null,
   "id": "52e232e6",
   "metadata": {},
   "outputs": [],
   "source": [
    "#module = tvm.contrib.graph_executor.create(loaded_json, loaded_lib, ctx)"
   ]
  },
  {
   "cell_type": "code",
   "execution_count": null,
   "id": "3252666e",
   "metadata": {},
   "outputs": [],
   "source": [
    "module.load_params(loaded_param)"
   ]
  },
  {
   "cell_type": "code",
   "execution_count": null,
   "id": "ad11f533",
   "metadata": {},
   "outputs": [],
   "source": [
    "module.set_input(\"Input3\", inputs[0])"
   ]
  },
  {
   "cell_type": "markdown",
   "id": "a1d9faa6",
   "metadata": {},
   "source": [
    "# tes"
   ]
  },
  {
   "cell_type": "code",
   "execution_count": null,
   "id": "e0d8091c",
   "metadata": {},
   "outputs": [],
   "source": [
    "module.run()"
   ]
  },
  {
   "cell_type": "code",
   "execution_count": null,
   "id": "cebe63c7",
   "metadata": {},
   "outputs": [],
   "source": [
    "out_deploy = module.get_output(0).asnumpy()"
   ]
  },
  {
   "cell_type": "code",
   "execution_count": null,
   "id": "6797eecb",
   "metadata": {},
   "outputs": [],
   "source": [
    "print(out_deploy)"
   ]
  },
  {
   "cell_type": "code",
   "execution_count": null,
   "id": "c52a235f",
   "metadata": {},
   "outputs": [],
   "source": []
  }
 ],
 "metadata": {
  "kernelspec": {
   "display_name": "Python 3",
   "language": "python",
   "name": "python3"
  },
  "language_info": {
   "codemirror_mode": {
    "name": "ipython",
    "version": 3
   },
   "file_extension": ".py",
   "mimetype": "text/x-python",
   "name": "python",
   "nbconvert_exporter": "python",
   "pygments_lexer": "ipython3",
   "version": "3.6.9"
  }
 },
 "nbformat": 4,
 "nbformat_minor": 5
}
