{
 "cells": [
  {
   "cell_type": "code",
   "execution_count": 51,
   "id": "b1a61033",
   "metadata": {},
   "outputs": [],
   "source": [
    "import numpy as np"
   ]
  },
  {
   "cell_type": "code",
   "execution_count": 52,
   "id": "81624777",
   "metadata": {},
   "outputs": [],
   "source": [
    "import onnx"
   ]
  },
  {
   "cell_type": "code",
   "execution_count": 53,
   "id": "efc77563",
   "metadata": {},
   "outputs": [],
   "source": [
    "import os"
   ]
  },
  {
   "cell_type": "code",
   "execution_count": 54,
   "id": "c4f980bc",
   "metadata": {},
   "outputs": [],
   "source": [
    "import glob"
   ]
  },
  {
   "cell_type": "code",
   "execution_count": 55,
   "id": "bb694546",
   "metadata": {},
   "outputs": [],
   "source": [
    "from onnx import numpy_helper"
   ]
  },
  {
   "cell_type": "code",
   "execution_count": 56,
   "id": "c4262745",
   "metadata": {},
   "outputs": [],
   "source": [
    "import tvm"
   ]
  },
  {
   "cell_type": "code",
   "execution_count": 57,
   "id": "db2e66a9",
   "metadata": {},
   "outputs": [],
   "source": [
    "from tvm import te"
   ]
  },
  {
   "cell_type": "code",
   "execution_count": 58,
   "id": "4db20951",
   "metadata": {},
   "outputs": [],
   "source": [
    "import tvm.relay as relay"
   ]
  },
  {
   "cell_type": "code",
   "execution_count": 59,
   "id": "37407173",
   "metadata": {},
   "outputs": [],
   "source": [
    "mnist_model = onnx.load('../mnist/mnist-8.onnx')"
   ]
  },
  {
   "cell_type": "code",
   "execution_count": 60,
   "id": "83329f57",
   "metadata": {},
   "outputs": [],
   "source": [
    "# load module param and mod"
   ]
  },
  {
   "cell_type": "code",
   "execution_count": 61,
   "id": "ab983f57",
   "metadata": {},
   "outputs": [],
   "source": [
    "input_name = \"Input3\""
   ]
  },
  {
   "cell_type": "code",
   "execution_count": 62,
   "id": "c93790e3",
   "metadata": {},
   "outputs": [
    {
     "name": "stdout",
     "output_type": "stream",
     "text": [
      "{'Input3': (1, 1, 28, 28)}\n"
     ]
    }
   ],
   "source": [
    "shape_dict = {input_name: (1, 1, 28, 28)}\n",
    "print(shape_dict)"
   ]
  },
  {
   "cell_type": "code",
   "execution_count": 75,
   "id": "03f15585",
   "metadata": {},
   "outputs": [],
   "source": [
    "mod, params = relay.frontend.from_onnx(mnist_model, shape_dict)"
   ]
  },
  {
   "cell_type": "code",
   "execution_count": 76,
   "id": "4ef38b45",
   "metadata": {},
   "outputs": [],
   "source": [
    "# func = mod[\"main\"]"
   ]
  },
  {
   "cell_type": "code",
   "execution_count": 77,
   "id": "97c480a6",
   "metadata": {},
   "outputs": [],
   "source": [
    "# func = relay.Function(func.params, relay.nn.softmax(func.body), None, func.type_params, func.attrs)"
   ]
  },
  {
   "cell_type": "code",
   "execution_count": 78,
   "id": "ba858e1c",
   "metadata": {},
   "outputs": [],
   "source": [
    "target = tvm.target.arm_cpu(\"rasp3b\")\n",
    "# target = tvm.target.create('llvm')\n",
    "# target = tvm.target.Target('llvm')"
   ]
  },
  {
   "cell_type": "code",
   "execution_count": 79,
   "id": "b6cce22b",
   "metadata": {},
   "outputs": [
    {
     "name": "stderr",
     "output_type": "stream",
     "text": [
      "Cannot find config for target=llvm -keys=arm_cpu,cpu -device=arm_cpu -link-params=0 -mattr=+neon -model=bcm2837 -mtriple=armv7l-linux-gnueabihf, workload=('conv2d_nchw_spatial_pack.arm_cpu', ('TENSOR', (1, 1, 32, 32), 'float32'), ('TENSOR', (8, 1, 5, 5), 'float32'), (1, 1), (0, 0, 0, 0), (1, 1), 'float32'). A fallback configuration is used, which may bring great performance regression.\n",
      "Cannot find config for target=llvm -keys=arm_cpu,cpu -device=arm_cpu -link-params=0 -mattr=+neon -model=bcm2837 -mtriple=armv7l-linux-gnueabihf, workload=('conv2d_nchw_spatial_pack.arm_cpu', ('TENSOR', (1, 8, 18, 18), 'float32'), ('TENSOR', (16, 8, 5, 5), 'float32'), (1, 1), (0, 0, 0, 0), (1, 1), 'float32'). A fallback configuration is used, which may bring great performance regression.\n",
      "Cannot find config for target=llvm -keys=arm_cpu,cpu -device=arm_cpu -link-params=0 -mattr=+neon -model=bcm2837 -mtriple=armv7l-linux-gnueabihf, workload=('dense_pack.x86', ('TENSOR', (1, 256), 'float32'), ('TENSOR', (10, 256), 'float32'), None, 'float32'). A fallback configuration is used, which may bring great performance regression.\n",
      "Cannot find config for target=llvm -keys=arm_cpu,cpu -device=arm_cpu -link-params=0 -mattr=+neon -model=bcm2837 -mtriple=armv7l-linux-gnueabihf, workload=('dense_pack.x86', ('TENSOR', (1, 256), 'float32'), ('TENSOR', (1, 256, 10), 'float32'), None, 'float32'). A fallback configuration is used, which may bring great performance regression.\n"
     ]
    }
   ],
   "source": [
    "with tvm.transform.PassContext(opt_level=3):\n",
    "# with relay.build_config(opt_level=2):    \n",
    "    mod_lib = relay.build(mod, target, params=params, mod_name='mnist')"
   ]
  },
  {
   "cell_type": "code",
   "execution_count": 68,
   "id": "7e42d45b",
   "metadata": {},
   "outputs": [
    {
     "name": "stdout",
     "output_type": "stream",
     "text": [
      "<tvm.relay.backend.graph_executor_factory.GraphExecutorFactoryModule object at 0x7f79b2943940>\n"
     ]
    }
   ],
   "source": [
    "print(mod_lib)"
   ]
  },
  {
   "cell_type": "code",
   "execution_count": 30,
   "id": "2bdf4f3d",
   "metadata": {},
   "outputs": [],
   "source": [
    "# lib export\n",
    "lib_path = \"../lib/mnist.so\""
   ]
  },
  {
   "cell_type": "code",
   "execution_count": 31,
   "id": "f9d8fc0e",
   "metadata": {},
   "outputs": [],
   "source": [
    "mod_lib.export_library(lib_path)\n",
    "# , cc=\"/usr/bin/arm-linux-gnueabihf-g++\""
   ]
  },
  {
   "cell_type": "code",
   "execution_count": 32,
   "id": "f76de0a7",
   "metadata": {},
   "outputs": [],
   "source": [
    "# params export"
   ]
  },
  {
   "cell_type": "code",
   "execution_count": 33,
   "id": "2ca49db1",
   "metadata": {},
   "outputs": [],
   "source": [
    "param_path = \"../lib/mnist.params\""
   ]
  },
  {
   "cell_type": "code",
   "execution_count": 34,
   "id": "3d2f85ca",
   "metadata": {},
   "outputs": [],
   "source": [
    "with open(param_path, 'wb') as fo:\n",
    "    fo.write(relay.save_param_dict(params))"
   ]
  },
  {
   "cell_type": "code",
   "execution_count": 35,
   "id": "52046193",
   "metadata": {},
   "outputs": [],
   "source": [
    "# test module"
   ]
  },
  {
   "cell_type": "code",
   "execution_count": 36,
   "id": "5cac0c0f",
   "metadata": {},
   "outputs": [],
   "source": [
    "test_data_dir = '../mnist/test_data_set_2'"
   ]
  },
  {
   "cell_type": "code",
   "execution_count": 37,
   "id": "2cdb08ca",
   "metadata": {},
   "outputs": [],
   "source": [
    "inputs = []"
   ]
  },
  {
   "cell_type": "code",
   "execution_count": 38,
   "id": "3cf6bd48",
   "metadata": {},
   "outputs": [],
   "source": [
    "inputs_num = len(glob.glob(os.path.join(test_data_dir, 'input_*.pb')))"
   ]
  },
  {
   "cell_type": "code",
   "execution_count": 39,
   "id": "1712cfa9",
   "metadata": {},
   "outputs": [],
   "source": [
    "for i in range(inputs_num):\n",
    "    input_file = os.path.join(test_data_dir, 'input_{}.pb'.format(i))\n",
    "    tensor = onnx.TensorProto()\n",
    "    with open(input_file, 'rb') as f:\n",
    "        tensor.ParseFromString(f.read())\n",
    "    inputs.append(numpy_helper.to_array(tensor))"
   ]
  },
  {
   "cell_type": "code",
   "execution_count": 40,
   "id": "89c1e553",
   "metadata": {},
   "outputs": [],
   "source": [
    "loaded_lib = tvm.runtime.load_module(lib_path)"
   ]
  },
  {
   "cell_type": "code",
   "execution_count": 41,
   "id": "750b392f",
   "metadata": {},
   "outputs": [],
   "source": [
    "#loaded_param = tvm.runtime.load_param_dict(open(param_path, \"rb\").read())\n",
    "loaded_param = bytearray(open(param_path, \"rb\").read())"
   ]
  },
  {
   "cell_type": "code",
   "execution_count": 42,
   "id": "d39ca93c",
   "metadata": {},
   "outputs": [],
   "source": [
    "# context"
   ]
  },
  {
   "cell_type": "code",
   "execution_count": 43,
   "id": "42a1d2aa",
   "metadata": {},
   "outputs": [],
   "source": [
    "ctx = tvm.cpu()"
   ]
  },
  {
   "cell_type": "code",
   "execution_count": 44,
   "id": "edbc2800",
   "metadata": {},
   "outputs": [],
   "source": [
    "module = tvm.contrib.graph_executor.GraphModule(loaded_lib[\"mnist\"](ctx))"
   ]
  },
  {
   "cell_type": "code",
   "execution_count": 45,
   "id": "52e232e6",
   "metadata": {},
   "outputs": [],
   "source": [
    "#module = tvm.contrib.graph_executor.create(loaded_json, loaded_lib, ctx)"
   ]
  },
  {
   "cell_type": "code",
   "execution_count": 46,
   "id": "3252666e",
   "metadata": {},
   "outputs": [],
   "source": [
    "module.load_params(loaded_param)"
   ]
  },
  {
   "cell_type": "code",
   "execution_count": 47,
   "id": "ad11f533",
   "metadata": {},
   "outputs": [],
   "source": [
    "module.set_input(\"Input3\", inputs[0])"
   ]
  },
  {
   "cell_type": "markdown",
   "id": "a1d9faa6",
   "metadata": {},
   "source": [
    "# tes"
   ]
  },
  {
   "cell_type": "code",
   "execution_count": 48,
   "id": "e0d8091c",
   "metadata": {},
   "outputs": [],
   "source": [
    "module.run()"
   ]
  },
  {
   "cell_type": "code",
   "execution_count": 49,
   "id": "cebe63c7",
   "metadata": {},
   "outputs": [],
   "source": [
    "out_deploy = module.get_output(0).asnumpy()"
   ]
  },
  {
   "cell_type": "code",
   "execution_count": 50,
   "id": "6797eecb",
   "metadata": {},
   "outputs": [
    {
     "name": "stdout",
     "output_type": "stream",
     "text": [
      "[[-2334.0884   -1113.6259    1076.5802    -860.23926   1588.5348\n",
      "  -1534.3464   -2686.0781     -56.480286    74.574875  3715.3796  ]]\n"
     ]
    }
   ],
   "source": [
    "print(out_deploy)"
   ]
  },
  {
   "cell_type": "code",
   "execution_count": null,
   "id": "c52a235f",
   "metadata": {},
   "outputs": [],
   "source": []
  }
 ],
 "metadata": {
  "kernelspec": {
   "display_name": "Python 3",
   "language": "python",
   "name": "python3"
  },
  "language_info": {
   "codemirror_mode": {
    "name": "ipython",
    "version": 3
   },
   "file_extension": ".py",
   "mimetype": "text/x-python",
   "name": "python",
   "nbconvert_exporter": "python",
   "pygments_lexer": "ipython3",
   "version": "3.8.5"
  }
 },
 "nbformat": 4,
 "nbformat_minor": 5
}
